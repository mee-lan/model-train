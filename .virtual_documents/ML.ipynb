import pandas as pd


music_data= pd.read_csv("music.csv")


music_data.shape


music_data


X= music_data.drop(columns=['genre'])


y = music_data['genre']


from sklearn.tree import DecisionTreeClassifier
from sklearn.model_selection import train_test_split
from sklearn.metrics import accuracy_score

X_train,X_test,y_train,y_test=train_test_split(X,y,test_size=0.2)


model = DecisionTreeClassifier()


model.fit(X_train,y_train)


predictions= model.predict(X_test)


score=accuracy_score(y_test,predictions)


score



